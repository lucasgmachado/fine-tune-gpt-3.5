{
 "cells": [
  {
   "cell_type": "code",
   "execution_count": 75,
   "id": "543805f8",
   "metadata": {},
   "outputs": [],
   "source": [
    "import openai"
   ]
  },
  {
   "cell_type": "code",
   "execution_count": 64,
   "id": "0f69f849",
   "metadata": {},
   "outputs": [
    {
     "data": {
      "text/plain": [
       "<File file id=file-xaeloUUQPa3osn8vPVzDTZJd at 0x1a86a5201d0> JSON: {\n",
       "  \"object\": \"file\",\n",
       "  \"id\": \"file-xaeloUUQPa3osn8vPVzDTZJd\",\n",
       "  \"purpose\": \"fine-tune\",\n",
       "  \"filename\": \"file\",\n",
       "  \"bytes\": 78664,\n",
       "  \"created_at\": 1694624536,\n",
       "  \"status\": \"uploaded\",\n",
       "  \"status_details\": null\n",
       "}"
      ]
     },
     "execution_count": 64,
     "metadata": {},
     "output_type": "execute_result"
    }
   ],
   "source": [
    "openai.api_key = \"<API_KEY>\"\n",
    "openai.File.create(\n",
    "  file=open(r\"train_file_path\", \"rb\"),\n",
    "  purpose='fine-tune'\n",
    ")"
   ]
  },

   ],
   "source": [
    "openai.File.create(\n",
    "  file=open(r\"test_file_path\", \"rb\"),\n",
    "  purpose='fine-tune'\n",
    ")"
   ]
  },
  {
   "cell_type": "code",
   "execution_count": 67,
   "id": "63514580",
   "metadata": {},
   "outputs": [
    {
     "data": {
      "text/plain": [
       "(<File file id=file-xaeloUUQPa3osn8vPVzDTZJd at 0x1a87ad7c890> JSON: {\n",
       "   \"object\": \"file\",\n",
       "   \"id\": \"file-xaeloUUQPa3osn8vPVzDTZJd\",\n",
       "   \"purpose\": \"fine-tune\",\n",
       "   \"filename\": \"file\",\n",
       "   \"bytes\": 78664,\n",
       "   \"created_at\": 1694624536,\n",
       "   \"status\": \"processed\",\n",
       "   \"status_details\": null\n",
       " },\n",
       " <File file id=file-IUyOoR6uoafixBVtesyDeU4n at 0x1a87ad7d550> JSON: {\n",
       "   \"object\": \"file\",\n",
       "   \"id\": \"file-IUyOoR6uoafixBVtesyDeU4n\",\n",
       "   \"purpose\": \"fine-tune\",\n",
       "   \"filename\": \"file\",\n",
       "   \"bytes\": 21175,\n",
       "   \"created_at\": 1694624538,\n",
       "   \"status\": \"processed\",\n",
       "   \"status_details\": null\n",
       " })"
      ]
     },
     "execution_count": 67,
     "metadata": {},
     "output_type": "execute_result"
    }
   ],
   "source": [
    "openai.File.retrieve(\"Train-File-ID\"),openai.File.retrieve(\"Test-File-ID\")"
   ]
  },
  {
   "cell_type": "code",
   "execution_count": 68,
   "id": "24cbb29e",
   "metadata": {},
   "outputs": [
    {
     "data": {
      "text/plain": [
       "<FineTuningJob fine_tuning.job id=ftjob-z4744OZQcPMlq2AMacR2Gqdj at 0x1a87ae73650> JSON: {\n",
       "  \"object\": \"fine_tuning.job\",\n",
       "  \"id\": \"ftjob-z4744OZQcPMlq2AMacR2Gqdj\",\n",
       "  \"model\": \"gpt-3.5-turbo-0613\",\n",
       "  \"created_at\": 1694624636,\n",
       "  \"finished_at\": null,\n",
       "  \"fine_tuned_model\": null,\n",
       "  \"organization_id\": \"org-iwtfhwU40sfsb3Yg1hsPOuVW\",\n",
       "  \"result_files\": [],\n",
       "  \"status\": \"created\",\n",
       "  \"validation_file\": \"file-IUyOoR6uoafixBVtesyDeU4n\",\n",
       "  \"training_file\": \"file-xaeloUUQPa3osn8vPVzDTZJd\",\n",
       "  \"hyperparameters\": {\n",
       "    \"n_epochs\": 3\n",
       "  },\n",
       "  \"trained_tokens\": null,\n",
       "  \"error\": null\n",
       "}"
      ]
     },
     "execution_count": 68,
     "metadata": {},
     "output_type": "execute_result"
    }
   ],
   "source": [
    "openai.FineTuningJob.create(training_file=\"Train-File-ID\", validation_file= \"Test-File-ID\", model=\"gpt-3.5-turbo\")"
   ]
  },
  {
   "cell_type": "code",
   "execution_count": 76,
   "id": "a9708e70",
   "metadata": {},
   "outputs": [
    {
     "data": {
      "text/plain": [
       "<FineTuningJob fine_tuning.job id=ftjob-z4744OZQcPMlq2AMacR2Gqdj at 0x1a87ad7da30> JSON: {\n",
       "  \"object\": \"fine_tuning.job\",\n",
       "  \"id\": \"ftjob-z4744OZQcPMlq2AMacR2Gqdj\",\n",
       "  \"model\": \"gpt-3.5-turbo-0613\",\n",
       "  \"created_at\": 1694624636,\n",
       "  \"finished_at\": 1694625563,\n",
       "  \"fine_tuned_model\": \"ft:gpt-3.5-turbo-0613:revenue-pulse::7yNoKgZg\",\n",
       "  \"organization_id\": \"org-iwtfhwU40sfsb3Yg1hsPOuVW\",\n",
       "  \"result_files\": [\n",
       "    \"file-JK00iSyCxLvTIDSDEPT3hnxO\"\n",
       "  ],\n",
       "  \"status\": \"succeeded\",\n",
       "  \"validation_file\": \"file-IUyOoR6uoafixBVtesyDeU4n\",\n",
       "  \"training_file\": \"file-xaeloUUQPa3osn8vPVzDTZJd\",\n",
       "  \"hyperparameters\": {\n",
       "    \"n_epochs\": 3\n",
       "  },\n",
       "  \"trained_tokens\": 49434,\n",
       "  \"error\": null\n",
       "}"
      ]
     },
     "execution_count": 76,
     "metadata": {},
     "output_type": "execute_result"
    }
   ],
   "source": [
    "openai.FineTuningJob.retrieve(\"FT-ID\")"
   ]
  },
  {
   "cell_type": "code",
   "execution_count": 80,
   "id": "e70d9b14",
   "metadata": {},
   "outputs": [
    {
     "name": "stdout",
     "output_type": "stream",
     "text": [
      "{\n",
      "  \"index\": 0,\n",
      "  \"message\": {\n",
      "    \"role\": \"assistant\",\n",
      "    \"content\": \" Real\"\n",
      "  },\n",
      "  \"finish_reason\": \"stop\"\n",
      "}\n"
     ]
    }
   ],
   "source": [
    "completion = openai.ChatCompletion.create(\n",
    "  model=\"MODEL_ID\",\n",
    "  temperature=0,\n",
    "  max_tokens=100,\n",
    "  messages=[\n",
    "    {\"role\": \"user\", \"content\": \"'Your Test Message\"}\n",
    "  ]\n",
    ")\n",
    "print(completion.choices[0])"
   ]
  }
 ],
 "metadata": {
  "kernelspec": {
   "display_name": "Python 3 (ipykernel)",
   "language": "python",
   "name": "python3"
  },
  "language_info": {
   "codemirror_mode": {
    "name": "ipython",
    "version": 3
   },
   "file_extension": ".py",
   "mimetype": "text/x-python",
   "name": "python",
   "nbconvert_exporter": "python",
   "pygments_lexer": "ipython3",
   "version": "3.9.13"
  }
 },
 "nbformat": 4,
 "nbformat_minor": 5
}
