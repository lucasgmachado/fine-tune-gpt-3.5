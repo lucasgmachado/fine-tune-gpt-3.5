{
 "cells": [
  {
   "cell_type": "code",
   "execution_count": null,
   "id": "543805f8",
   "metadata": {},
   "outputs": [],
   "source": [
    "import openai"
   ]
  },
  {
   "cell_type": "code",
   "execution_count": null,
   "id": "0f69f849",
   "metadata": {},
   "outputs": [],
   "source": [
    "openai.api_key = \"<API_KEY>\"\n",
    "openai.File.create(\n",
    "  file=open(r\"train_file_path\", \"rb\"),\n",
    "  purpose='fine-tune'\n",
    ")"
   ]
  },
  {
   "cell_type": "code",
   "execution_count": null,
   "id": "57594c46",
   "metadata": {},
   "outputs": [],
   "source": [
    "openai.File.create(\n",
    "  file=open(r\"test_file_path\", \"rb\"),\n",
    "  purpose='fine-tune'\n",
    ")"
   ]
  },
  {
   "cell_type": "code",
   "execution_count": null,
   "id": "63514580",
   "metadata": {},
   "outputs": [],
   "source": [
    "openai.File.retrieve(\"Train-File-ID\"),openai.File.retrieve(\"Test-File-ID\")"
   ]
  },
  {
   "cell_type": "code",
   "execution_count": null,
   "id": "24cbb29e",
   "metadata": {},
   "outputs": [],
   "source": [
    "openai.FineTuningJob.create(training_file=\"Train-File-ID\", validation_file= \"Test-File-ID\", model=\"gpt-3.5-turbo\")"
   ]
  },
  {
   "cell_type": "code",
   "execution_count": null,
   "id": "a9708e70",
   "metadata": {},
   "outputs": [],
   "source": [
    "openai.FineTuningJob.retrieve(\"FT-ID\")"
   ]
  },
  {
   "cell_type": "code",
   "execution_count": null,
   "id": "e70d9b14",
   "metadata": {},
   "outputs": [],
   "source": [
    "completion = openai.ChatCompletion.create(\n",
    "  model=\"MODEL_ID\",\n",
    "  temperature=0,\n",
    "  max_tokens=100,\n",
    "  messages=[\n",
    "    {\"role\": \"user\", \"content\": \"'Your Test Message\"}\n",
    "  ]\n",
    ")\n",
    "print(completion.choices[0])"
   ]
  }
 ],
 "metadata": {
  "kernelspec": {
   "display_name": "Python 3 (ipykernel)",
   "language": "python",
   "name": "python3"
  },
  "language_info": {
   "codemirror_mode": {
    "name": "ipython",
    "version": 3
   },
   "file_extension": ".py",
   "mimetype": "text/x-python",
   "name": "python",
   "nbconvert_exporter": "python",
   "pygments_lexer": "ipython3",
   "version": "3.9.13"
  }
 },
 "nbformat": 4,
 "nbformat_minor": 5
}
